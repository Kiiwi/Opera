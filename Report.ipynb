{
 "cells": [
  {
   "cell_type": "code",
   "execution_count": 2,
   "metadata": {},
   "outputs": [],
   "source": [
    "import pandas as pd\n",
    "from pandas.io import gbq"
   ]
  },
  {
   "cell_type": "code",
   "execution_count": 3,
   "metadata": {},
   "outputs": [],
   "source": [
    "df = gbq.read_gbq(\"SELECT * FROM test_data.PRODUCT\", project_id=\"opera-220120\")"
   ]
  },
  {
   "cell_type": "markdown",
   "metadata": {},
   "source": [
    "We have now connected to a database on Google BigQuery. Let's take a quick glance at the data we are going to work with"
   ]
  },
  {
   "cell_type": "code",
   "execution_count": 6,
   "metadata": {},
   "outputs": [
    {
     "data": {
      "text/html": [
       "<div>\n",
       "<style scoped>\n",
       "    .dataframe tbody tr th:only-of-type {\n",
       "        vertical-align: middle;\n",
       "    }\n",
       "\n",
       "    .dataframe tbody tr th {\n",
       "        vertical-align: top;\n",
       "    }\n",
       "\n",
       "    .dataframe thead th {\n",
       "        text-align: right;\n",
       "    }\n",
       "</style>\n",
       "<table border=\"1\" class=\"dataframe\">\n",
       "  <thead>\n",
       "    <tr style=\"text-align: right;\">\n",
       "      <th></th>\n",
       "      <th>partition_date</th>\n",
       "      <th>timeperiod</th>\n",
       "      <th>country</th>\n",
       "      <th>full_version</th>\n",
       "      <th>news_locale</th>\n",
       "      <th>channel</th>\n",
       "      <th>source</th>\n",
       "      <th>impressions</th>\n",
       "      <th>clicks</th>\n",
       "      <th>active_users</th>\n",
       "      <th>new_users</th>\n",
       "      <th>retained_01</th>\n",
       "      <th>retained_07</th>\n",
       "      <th>retained_30</th>\n",
       "    </tr>\n",
       "  </thead>\n",
       "  <tbody>\n",
       "    <tr>\n",
       "      <th>0</th>\n",
       "      <td>2018-06-02</td>\n",
       "      <td>2018-06-01</td>\n",
       "      <td>HF</td>\n",
       "      <td>3.3.2254.127986</td>\n",
       "      <td>hw:en</td>\n",
       "      <td>Cross-Promo</td>\n",
       "      <td>Unprecedented_2</td>\n",
       "      <td>NaN</td>\n",
       "      <td>NaN</td>\n",
       "      <td>NaN</td>\n",
       "      <td>NaN</td>\n",
       "      <td>4.0</td>\n",
       "      <td>NaN</td>\n",
       "      <td>NaN</td>\n",
       "    </tr>\n",
       "    <tr>\n",
       "      <th>1</th>\n",
       "      <td>2018-06-02</td>\n",
       "      <td>2018-06-01</td>\n",
       "      <td>BF</td>\n",
       "      <td>2.4.2254.127188</td>\n",
       "      <td>ba:fr</td>\n",
       "      <td>Cross-Promo</td>\n",
       "      <td>Widespread_4</td>\n",
       "      <td>NaN</td>\n",
       "      <td>NaN</td>\n",
       "      <td>NaN</td>\n",
       "      <td>NaN</td>\n",
       "      <td>3.0</td>\n",
       "      <td>NaN</td>\n",
       "      <td>NaN</td>\n",
       "    </tr>\n",
       "    <tr>\n",
       "      <th>2</th>\n",
       "      <td>2018-06-02</td>\n",
       "      <td>2018-06-01</td>\n",
       "      <td>BF</td>\n",
       "      <td>3.3.2254.127986</td>\n",
       "      <td>ba:fr</td>\n",
       "      <td>Cross-Promo</td>\n",
       "      <td>Widespread_4</td>\n",
       "      <td>NaN</td>\n",
       "      <td>NaN</td>\n",
       "      <td>NaN</td>\n",
       "      <td>NaN</td>\n",
       "      <td>10.0</td>\n",
       "      <td>NaN</td>\n",
       "      <td>NaN</td>\n",
       "    </tr>\n",
       "    <tr>\n",
       "      <th>3</th>\n",
       "      <td>2018-06-02</td>\n",
       "      <td>2018-06-01</td>\n",
       "      <td>JE</td>\n",
       "      <td>3.3.2254.127986</td>\n",
       "      <td>lv:fr</td>\n",
       "      <td>Cross-Promo</td>\n",
       "      <td>Widespread_4</td>\n",
       "      <td>NaN</td>\n",
       "      <td>NaN</td>\n",
       "      <td>NaN</td>\n",
       "      <td>NaN</td>\n",
       "      <td>11.0</td>\n",
       "      <td>NaN</td>\n",
       "      <td>NaN</td>\n",
       "    </tr>\n",
       "    <tr>\n",
       "      <th>4</th>\n",
       "      <td>2018-06-02</td>\n",
       "      <td>2018-06-01</td>\n",
       "      <td>JE</td>\n",
       "      <td>2.4.2254.127188</td>\n",
       "      <td>lv:fr</td>\n",
       "      <td>Cross-Promo</td>\n",
       "      <td>Widespread_4</td>\n",
       "      <td>NaN</td>\n",
       "      <td>NaN</td>\n",
       "      <td>NaN</td>\n",
       "      <td>NaN</td>\n",
       "      <td>4.0</td>\n",
       "      <td>NaN</td>\n",
       "      <td>NaN</td>\n",
       "    </tr>\n",
       "  </tbody>\n",
       "</table>\n",
       "</div>"
      ],
      "text/plain": [
       "  partition_date timeperiod country     full_version news_locale      channel  \\\n",
       "0     2018-06-02 2018-06-01      HF  3.3.2254.127986       hw:en  Cross-Promo   \n",
       "1     2018-06-02 2018-06-01      BF  2.4.2254.127188       ba:fr  Cross-Promo   \n",
       "2     2018-06-02 2018-06-01      BF  3.3.2254.127986       ba:fr  Cross-Promo   \n",
       "3     2018-06-02 2018-06-01      JE  3.3.2254.127986       lv:fr  Cross-Promo   \n",
       "4     2018-06-02 2018-06-01      JE  2.4.2254.127188       lv:fr  Cross-Promo   \n",
       "\n",
       "            source  impressions  clicks  active_users  new_users  retained_01  \\\n",
       "0  Unprecedented_2          NaN     NaN           NaN        NaN          4.0   \n",
       "1     Widespread_4          NaN     NaN           NaN        NaN          3.0   \n",
       "2     Widespread_4          NaN     NaN           NaN        NaN         10.0   \n",
       "3     Widespread_4          NaN     NaN           NaN        NaN         11.0   \n",
       "4     Widespread_4          NaN     NaN           NaN        NaN          4.0   \n",
       "\n",
       "   retained_07  retained_30  \n",
       "0          NaN          NaN  \n",
       "1          NaN          NaN  \n",
       "2          NaN          NaN  \n",
       "3          NaN          NaN  \n",
       "4          NaN          NaN  "
      ]
     },
     "execution_count": 6,
     "metadata": {},
     "output_type": "execute_result"
    }
   ],
   "source": [
    "df.head()"
   ]
  },
  {
   "cell_type": "markdown",
   "metadata": {},
   "source": [
    "The first thing we see is that there are several null values. Let us check how prevelent this is  "
   ]
  },
  {
   "cell_type": "code",
   "execution_count": 9,
   "metadata": {},
   "outputs": [
    {
     "data": {
      "text/plain": [
       "0.6235216056753986"
      ]
     },
     "execution_count": 9,
     "metadata": {},
     "output_type": "execute_result"
    }
   ],
   "source": [
    "df[\"clicks\"].isna().sum()/len(df[\"clicks\"])"
   ]
  },
  {
   "cell_type": "markdown",
   "metadata": {},
   "source": [
    "So about 62% of the rows have null value for clicks. This seems realistic. Not all products in all coutries will have clicks"
   ]
  },
  {
   "cell_type": "markdown",
   "metadata": {},
   "source": [
    "Let us find out the time range the data covers"
   ]
  },
  {
   "cell_type": "code",
   "execution_count": 13,
   "metadata": {},
   "outputs": [
    {
     "data": {
      "text/plain": [
       "Timestamp('2018-07-31 00:00:00')"
      ]
     },
     "execution_count": 13,
     "metadata": {},
     "output_type": "execute_result"
    }
   ],
   "source": [
    "max(df[\"timeperiod\"])"
   ]
  },
  {
   "cell_type": "code",
   "execution_count": 14,
   "metadata": {},
   "outputs": [
    {
     "data": {
      "text/plain": [
       "Timestamp('2018-06-01 00:00:00')"
      ]
     },
     "execution_count": 14,
     "metadata": {},
     "output_type": "execute_result"
    }
   ],
   "source": [
    "min(df[\"timeperiod\"])"
   ]
  },
  {
   "cell_type": "markdown",
   "metadata": {},
   "source": [
    "The data covers two months. From first of June to 31st of July 2018."
   ]
  },
  {
   "cell_type": "code",
   "execution_count": 19,
   "metadata": {},
   "outputs": [
    {
     "data": {
      "text/plain": [
       "country\n",
       "BF     2.520582\n",
       "DC     4.201086\n",
       "GT     3.580905\n",
       "HF     2.930920\n",
       "IB     3.103561\n",
       "JE     2.636894\n",
       "JY     1.210033\n",
       "KI     3.650642\n",
       "LP     0.560923\n",
       "LQ     1.829285\n",
       "LY     0.360828\n",
       "OU     0.884616\n",
       "RE     4.531903\n",
       "RO     2.030105\n",
       "TT     1.774262\n",
       "TZ     0.950392\n",
       "UF     5.333772\n",
       "WA     0.785179\n",
       "XJ    10.649609\n",
       "ZY    28.443589\n",
       "Name: new_users, dtype: float64"
      ]
     },
     "execution_count": 19,
     "metadata": {},
     "output_type": "execute_result"
    }
   ],
   "source": [
    "out = df.groupby([\"country\", \"partition_date\"]).mean().groupby(\"country\")[\"new_users\"].mean()\n",
    "out"
   ]
  }
 ],
 "metadata": {
  "kernelspec": {
   "display_name": "Python 3",
   "language": "python",
   "name": "python3"
  },
  "language_info": {
   "codemirror_mode": {
    "name": "ipython",
    "version": 3
   },
   "file_extension": ".py",
   "mimetype": "text/x-python",
   "name": "python",
   "nbconvert_exporter": "python",
   "pygments_lexer": "ipython3",
   "version": "3.6.4"
  }
 },
 "nbformat": 4,
 "nbformat_minor": 2
}
