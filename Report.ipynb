{
 "cells": [
  {
   "cell_type": "markdown",
   "metadata": {},
   "source": [
    "# Opera Software - BI Intern Competence Test"
   ]
  },
  {
   "cell_type": "code",
   "execution_count": 47,
   "metadata": {},
   "outputs": [],
   "source": [
    "import pandas as pd\n",
    "from pandas.io import gbq"
   ]
  },
  {
   "cell_type": "markdown",
   "metadata": {},
   "source": [
    "The provided dataset has been loaded into a database on Google BigQuery"
   ]
  },
  {
   "cell_type": "code",
   "execution_count": 48,
   "metadata": {},
   "outputs": [],
   "source": [
    "df = gbq.read_gbq(\"SELECT * FROM test_data.PRODUCT\", project_id=\"opera-220120\")"
   ]
  },
  {
   "cell_type": "markdown",
   "metadata": {},
   "source": [
    "We have now connected to the database on Google BigQuery. Let's take a quick glance at the data we are going to work with"
   ]
  },
  {
   "cell_type": "code",
   "execution_count": 49,
   "metadata": {},
   "outputs": [
    {
     "data": {
      "text/html": [
       "<div>\n",
       "<style scoped>\n",
       "    .dataframe tbody tr th:only-of-type {\n",
       "        vertical-align: middle;\n",
       "    }\n",
       "\n",
       "    .dataframe tbody tr th {\n",
       "        vertical-align: top;\n",
       "    }\n",
       "\n",
       "    .dataframe thead th {\n",
       "        text-align: right;\n",
       "    }\n",
       "</style>\n",
       "<table border=\"1\" class=\"dataframe\">\n",
       "  <thead>\n",
       "    <tr style=\"text-align: right;\">\n",
       "      <th></th>\n",
       "      <th>partition_date</th>\n",
       "      <th>timeperiod</th>\n",
       "      <th>country</th>\n",
       "      <th>full_version</th>\n",
       "      <th>news_locale</th>\n",
       "      <th>channel</th>\n",
       "      <th>source</th>\n",
       "      <th>impressions</th>\n",
       "      <th>clicks</th>\n",
       "      <th>active_users</th>\n",
       "      <th>new_users</th>\n",
       "      <th>retained_01</th>\n",
       "      <th>retained_07</th>\n",
       "      <th>retained_30</th>\n",
       "    </tr>\n",
       "  </thead>\n",
       "  <tbody>\n",
       "    <tr>\n",
       "      <th>0</th>\n",
       "      <td>2018-06-02</td>\n",
       "      <td>2018-06-01</td>\n",
       "      <td>HF</td>\n",
       "      <td>3.3.2254.127986</td>\n",
       "      <td>hw:en</td>\n",
       "      <td>Cross-Promo</td>\n",
       "      <td>Unprecedented_2</td>\n",
       "      <td>NaN</td>\n",
       "      <td>NaN</td>\n",
       "      <td>NaN</td>\n",
       "      <td>NaN</td>\n",
       "      <td>4.0</td>\n",
       "      <td>NaN</td>\n",
       "      <td>NaN</td>\n",
       "    </tr>\n",
       "    <tr>\n",
       "      <th>1</th>\n",
       "      <td>2018-06-02</td>\n",
       "      <td>2018-06-01</td>\n",
       "      <td>BF</td>\n",
       "      <td>2.4.2254.127188</td>\n",
       "      <td>ba:fr</td>\n",
       "      <td>Cross-Promo</td>\n",
       "      <td>Widespread_4</td>\n",
       "      <td>NaN</td>\n",
       "      <td>NaN</td>\n",
       "      <td>NaN</td>\n",
       "      <td>NaN</td>\n",
       "      <td>3.0</td>\n",
       "      <td>NaN</td>\n",
       "      <td>NaN</td>\n",
       "    </tr>\n",
       "    <tr>\n",
       "      <th>2</th>\n",
       "      <td>2018-06-02</td>\n",
       "      <td>2018-06-01</td>\n",
       "      <td>BF</td>\n",
       "      <td>3.3.2254.127986</td>\n",
       "      <td>ba:fr</td>\n",
       "      <td>Cross-Promo</td>\n",
       "      <td>Widespread_4</td>\n",
       "      <td>NaN</td>\n",
       "      <td>NaN</td>\n",
       "      <td>NaN</td>\n",
       "      <td>NaN</td>\n",
       "      <td>10.0</td>\n",
       "      <td>NaN</td>\n",
       "      <td>NaN</td>\n",
       "    </tr>\n",
       "    <tr>\n",
       "      <th>3</th>\n",
       "      <td>2018-06-02</td>\n",
       "      <td>2018-06-01</td>\n",
       "      <td>JE</td>\n",
       "      <td>3.3.2254.127986</td>\n",
       "      <td>lv:fr</td>\n",
       "      <td>Cross-Promo</td>\n",
       "      <td>Widespread_4</td>\n",
       "      <td>NaN</td>\n",
       "      <td>NaN</td>\n",
       "      <td>NaN</td>\n",
       "      <td>NaN</td>\n",
       "      <td>11.0</td>\n",
       "      <td>NaN</td>\n",
       "      <td>NaN</td>\n",
       "    </tr>\n",
       "    <tr>\n",
       "      <th>4</th>\n",
       "      <td>2018-06-02</td>\n",
       "      <td>2018-06-01</td>\n",
       "      <td>JE</td>\n",
       "      <td>2.4.2254.127188</td>\n",
       "      <td>lv:fr</td>\n",
       "      <td>Cross-Promo</td>\n",
       "      <td>Widespread_4</td>\n",
       "      <td>NaN</td>\n",
       "      <td>NaN</td>\n",
       "      <td>NaN</td>\n",
       "      <td>NaN</td>\n",
       "      <td>4.0</td>\n",
       "      <td>NaN</td>\n",
       "      <td>NaN</td>\n",
       "    </tr>\n",
       "  </tbody>\n",
       "</table>\n",
       "</div>"
      ],
      "text/plain": [
       "  partition_date timeperiod country     full_version news_locale      channel  \\\n",
       "0     2018-06-02 2018-06-01      HF  3.3.2254.127986       hw:en  Cross-Promo   \n",
       "1     2018-06-02 2018-06-01      BF  2.4.2254.127188       ba:fr  Cross-Promo   \n",
       "2     2018-06-02 2018-06-01      BF  3.3.2254.127986       ba:fr  Cross-Promo   \n",
       "3     2018-06-02 2018-06-01      JE  3.3.2254.127986       lv:fr  Cross-Promo   \n",
       "4     2018-06-02 2018-06-01      JE  2.4.2254.127188       lv:fr  Cross-Promo   \n",
       "\n",
       "            source  impressions  clicks  active_users  new_users  retained_01  \\\n",
       "0  Unprecedented_2          NaN     NaN           NaN        NaN          4.0   \n",
       "1     Widespread_4          NaN     NaN           NaN        NaN          3.0   \n",
       "2     Widespread_4          NaN     NaN           NaN        NaN         10.0   \n",
       "3     Widespread_4          NaN     NaN           NaN        NaN         11.0   \n",
       "4     Widespread_4          NaN     NaN           NaN        NaN          4.0   \n",
       "\n",
       "   retained_07  retained_30  \n",
       "0          NaN          NaN  \n",
       "1          NaN          NaN  \n",
       "2          NaN          NaN  \n",
       "3          NaN          NaN  \n",
       "4          NaN          NaN  "
      ]
     },
     "execution_count": 49,
     "metadata": {},
     "output_type": "execute_result"
    }
   ],
   "source": [
    "df.head()"
   ]
  },
  {
   "cell_type": "markdown",
   "metadata": {},
   "source": [
    "The first thing we see is that there are several null values. Let us check how prevelent this is  "
   ]
  },
  {
   "cell_type": "code",
   "execution_count": 77,
   "metadata": {},
   "outputs": [
    {
     "data": {
      "text/plain": [
       "partition_date    100.000000\n",
       "timeperiod        100.000000\n",
       "country           100.000000\n",
       "full_version      100.000000\n",
       "news_locale       100.000000\n",
       "channel           100.000000\n",
       "source            100.000000\n",
       "impressions        39.927218\n",
       "clicks             37.647839\n",
       "active_users       50.300488\n",
       "new_users          50.300488\n",
       "retained_01         5.805593\n",
       "retained_07         4.523071\n",
       "retained_30         3.476683\n",
       "dtype: float64"
      ]
     },
     "execution_count": 77,
     "metadata": {},
     "output_type": "execute_result"
    }
   ],
   "source": [
    "df.count()/len(df)*100"
   ]
  },
  {
   "cell_type": "markdown",
   "metadata": {},
   "source": [
    "The table above shows the percentage of data we have for each comulmn that is not null"
   ]
  },
  {
   "cell_type": "markdown",
   "metadata": {},
   "source": [
    "Let us find out the time range the data covers"
   ]
  },
  {
   "cell_type": "code",
   "execution_count": 51,
   "metadata": {},
   "outputs": [
    {
     "data": {
      "text/plain": [
       "Timestamp('2018-08-30 00:00:00')"
      ]
     },
     "execution_count": 51,
     "metadata": {},
     "output_type": "execute_result"
    }
   ],
   "source": [
    "max(df[\"partition_date\"])"
   ]
  },
  {
   "cell_type": "code",
   "execution_count": 52,
   "metadata": {},
   "outputs": [
    {
     "data": {
      "text/plain": [
       "Timestamp('2018-06-01 00:00:00')"
      ]
     },
     "execution_count": 52,
     "metadata": {},
     "output_type": "execute_result"
    }
   ],
   "source": [
    "min(df[\"partition_date\"])"
   ]
  },
  {
   "cell_type": "markdown",
   "metadata": {},
   "source": [
    "The data covers three months. From first of June to 30th of August 2018."
   ]
  },
  {
   "cell_type": "code",
   "execution_count": 58,
   "metadata": {},
   "outputs": [
    {
     "data": {
      "text/plain": [
       "country\n",
       "BF    1225.262295\n",
       "DC    2870.360656\n",
       "GT    2201.688525\n",
       "HF    2455.672131\n",
       "IB    1568.590164\n",
       "JE    1613.098361\n",
       "JY     661.688525\n",
       "KI    1804.049180\n",
       "LP     169.622951\n",
       "LQ     830.213115\n",
       "LY     144.213115\n",
       "OU     355.491803\n",
       "RE    2448.491803\n",
       "RO     399.754098\n",
       "TT     763.262295\n",
       "TZ     302.819672\n",
       "UF    2678.606557\n",
       "WA     226.065574\n",
       "XJ    1225.213115\n",
       "ZY    2368.557377\n",
       "Name: new_users, dtype: float64"
      ]
     },
     "execution_count": 58,
     "metadata": {},
     "output_type": "execute_result"
    }
   ],
   "source": [
    "out = df.groupby([\"country\", \"timeperiod\"]).sum().groupby(\"country\")[\"new_users\"].mean()\n",
    "out"
   ]
  },
  {
   "cell_type": "markdown",
   "metadata": {},
   "source": [
    "This is the average daily new users for the three month period"
   ]
  },
  {
   "cell_type": "code",
   "execution_count": 121,
   "metadata": {},
   "outputs": [],
   "source": [
    "june = df[pd.to_datetime(df[\"timeperiod\"]).dt.month == 6]\n",
    "top_ten_sources_june = june.groupby([\"source\"]).sum().nlargest(10, \"new_users\")"
   ]
  },
  {
   "cell_type": "code",
   "execution_count": 78,
   "metadata": {},
   "outputs": [],
   "source": [
    "july = df[pd.to_datetime(df[\"timeperiod\"]).dt.month == 7]"
   ]
  },
  {
   "cell_type": "code",
   "execution_count": 101,
   "metadata": {},
   "outputs": [],
   "source": [
    "df_top_ten_july = july.loc[july[\"source\"].isin(list(top_ten_sources_june.index.values))]"
   ]
  },
  {
   "cell_type": "code",
   "execution_count": 109,
   "metadata": {},
   "outputs": [
    {
     "data": {
      "text/plain": [
       "source\n",
       "Cryptic_4       84564.870968\n",
       "Indeed_1        48873.000000\n",
       "Professor_7     47671.741935\n",
       "Latent_4        44108.903226\n",
       "Febrile_8       32720.161290\n",
       "Widespread_4    10841.838710\n",
       "Dreams_4        10091.935484\n",
       "Learned_3        8253.225806\n",
       "Family_1         7716.000000\n",
       "Returned_5       7142.129032\n",
       "Name: active_users, dtype: float64"
      ]
     },
     "execution_count": 109,
     "metadata": {},
     "output_type": "execute_result"
    }
   ],
   "source": [
    "df_top_ten_july.groupby([\"source\", \"timeperiod\"]).sum().groupby(\"source\")[\"active_users\"].mean().sort_values(ascending=False)"
   ]
  },
  {
   "cell_type": "markdown",
   "metadata": {},
   "source": [
    "This is the average active user in July for the top ten sources by user count in June"
   ]
  }
 ],
 "metadata": {
  "kernelspec": {
   "display_name": "Python 3",
   "language": "python",
   "name": "python3"
  },
  "language_info": {
   "codemirror_mode": {
    "name": "ipython",
    "version": 3
   },
   "file_extension": ".py",
   "mimetype": "text/x-python",
   "name": "python",
   "nbconvert_exporter": "python",
   "pygments_lexer": "ipython3",
   "version": "3.6.4"
  }
 },
 "nbformat": 4,
 "nbformat_minor": 2
}
