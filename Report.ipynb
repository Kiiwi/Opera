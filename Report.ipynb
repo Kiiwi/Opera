{
 "cells": [
  {
   "cell_type": "markdown",
   "metadata": {},
   "source": [
    "# Opera Software - BI Intern Competence Test"
   ]
  },
  {
   "cell_type": "code",
   "execution_count": 1,
   "metadata": {},
   "outputs": [],
   "source": [
    "import pandas as pd\n",
    "import numpy as np\n",
    "from sklearn.linear_model import LinearRegression\n",
    "from sklearn import metrics\n",
    "import statsmodels.formula.api as smf\n",
    "import seaborn as sns\n",
    "import matplotlib.pyplot as plt\n",
    "from pandas.io import gbq"
   ]
  },
  {
   "cell_type": "markdown",
   "metadata": {},
   "source": [
    "## Load data into database"
   ]
  },
  {
   "cell_type": "markdown",
   "metadata": {},
   "source": [
    "The provided dataset has been loaded into a database on Google BigQuery"
   ]
  },
  {
   "cell_type": "code",
   "execution_count": 2,
   "metadata": {},
   "outputs": [],
   "source": [
    "df = gbq.read_gbq(\"SELECT * FROM test_data.PRODUCT\", project_id=\"opera-220120\")"
   ]
  },
  {
   "cell_type": "markdown",
   "metadata": {},
   "source": [
    "We have now connected to the database on Google BigQuery. Let's take a quick glance at the data we are going to work with"
   ]
  },
  {
   "cell_type": "markdown",
   "metadata": {},
   "source": [
    "## Data"
   ]
  },
  {
   "cell_type": "code",
   "execution_count": 3,
   "metadata": {},
   "outputs": [
    {
     "data": {
      "text/html": [
       "<div>\n",
       "<style scoped>\n",
       "    .dataframe tbody tr th:only-of-type {\n",
       "        vertical-align: middle;\n",
       "    }\n",
       "\n",
       "    .dataframe tbody tr th {\n",
       "        vertical-align: top;\n",
       "    }\n",
       "\n",
       "    .dataframe thead th {\n",
       "        text-align: right;\n",
       "    }\n",
       "</style>\n",
       "<table border=\"1\" class=\"dataframe\">\n",
       "  <thead>\n",
       "    <tr style=\"text-align: right;\">\n",
       "      <th></th>\n",
       "      <th>partition_date</th>\n",
       "      <th>timeperiod</th>\n",
       "      <th>country</th>\n",
       "      <th>full_version</th>\n",
       "      <th>news_locale</th>\n",
       "      <th>channel</th>\n",
       "      <th>source</th>\n",
       "      <th>impressions</th>\n",
       "      <th>clicks</th>\n",
       "      <th>active_users</th>\n",
       "      <th>new_users</th>\n",
       "      <th>retained_01</th>\n",
       "      <th>retained_07</th>\n",
       "      <th>retained_30</th>\n",
       "    </tr>\n",
       "  </thead>\n",
       "  <tbody>\n",
       "    <tr>\n",
       "      <th>0</th>\n",
       "      <td>2018-06-02</td>\n",
       "      <td>2018-06-01</td>\n",
       "      <td>HF</td>\n",
       "      <td>3.3.2254.127986</td>\n",
       "      <td>hw:en</td>\n",
       "      <td>Cross-Promo</td>\n",
       "      <td>Unprecedented_2</td>\n",
       "      <td>NaN</td>\n",
       "      <td>NaN</td>\n",
       "      <td>NaN</td>\n",
       "      <td>NaN</td>\n",
       "      <td>4.0</td>\n",
       "      <td>NaN</td>\n",
       "      <td>NaN</td>\n",
       "    </tr>\n",
       "    <tr>\n",
       "      <th>1</th>\n",
       "      <td>2018-06-02</td>\n",
       "      <td>2018-06-01</td>\n",
       "      <td>BF</td>\n",
       "      <td>2.4.2254.127188</td>\n",
       "      <td>ba:fr</td>\n",
       "      <td>Cross-Promo</td>\n",
       "      <td>Widespread_4</td>\n",
       "      <td>NaN</td>\n",
       "      <td>NaN</td>\n",
       "      <td>NaN</td>\n",
       "      <td>NaN</td>\n",
       "      <td>3.0</td>\n",
       "      <td>NaN</td>\n",
       "      <td>NaN</td>\n",
       "    </tr>\n",
       "    <tr>\n",
       "      <th>2</th>\n",
       "      <td>2018-06-02</td>\n",
       "      <td>2018-06-01</td>\n",
       "      <td>BF</td>\n",
       "      <td>3.3.2254.127986</td>\n",
       "      <td>ba:fr</td>\n",
       "      <td>Cross-Promo</td>\n",
       "      <td>Widespread_4</td>\n",
       "      <td>NaN</td>\n",
       "      <td>NaN</td>\n",
       "      <td>NaN</td>\n",
       "      <td>NaN</td>\n",
       "      <td>10.0</td>\n",
       "      <td>NaN</td>\n",
       "      <td>NaN</td>\n",
       "    </tr>\n",
       "    <tr>\n",
       "      <th>3</th>\n",
       "      <td>2018-06-02</td>\n",
       "      <td>2018-06-01</td>\n",
       "      <td>JE</td>\n",
       "      <td>3.3.2254.127986</td>\n",
       "      <td>lv:fr</td>\n",
       "      <td>Cross-Promo</td>\n",
       "      <td>Widespread_4</td>\n",
       "      <td>NaN</td>\n",
       "      <td>NaN</td>\n",
       "      <td>NaN</td>\n",
       "      <td>NaN</td>\n",
       "      <td>11.0</td>\n",
       "      <td>NaN</td>\n",
       "      <td>NaN</td>\n",
       "    </tr>\n",
       "    <tr>\n",
       "      <th>4</th>\n",
       "      <td>2018-06-02</td>\n",
       "      <td>2018-06-01</td>\n",
       "      <td>JE</td>\n",
       "      <td>2.4.2254.127188</td>\n",
       "      <td>lv:fr</td>\n",
       "      <td>Cross-Promo</td>\n",
       "      <td>Widespread_4</td>\n",
       "      <td>NaN</td>\n",
       "      <td>NaN</td>\n",
       "      <td>NaN</td>\n",
       "      <td>NaN</td>\n",
       "      <td>4.0</td>\n",
       "      <td>NaN</td>\n",
       "      <td>NaN</td>\n",
       "    </tr>\n",
       "  </tbody>\n",
       "</table>\n",
       "</div>"
      ],
      "text/plain": [
       "  partition_date timeperiod country     full_version news_locale      channel  \\\n",
       "0     2018-06-02 2018-06-01      HF  3.3.2254.127986       hw:en  Cross-Promo   \n",
       "1     2018-06-02 2018-06-01      BF  2.4.2254.127188       ba:fr  Cross-Promo   \n",
       "2     2018-06-02 2018-06-01      BF  3.3.2254.127986       ba:fr  Cross-Promo   \n",
       "3     2018-06-02 2018-06-01      JE  3.3.2254.127986       lv:fr  Cross-Promo   \n",
       "4     2018-06-02 2018-06-01      JE  2.4.2254.127188       lv:fr  Cross-Promo   \n",
       "\n",
       "            source  impressions  clicks  active_users  new_users  retained_01  \\\n",
       "0  Unprecedented_2          NaN     NaN           NaN        NaN          4.0   \n",
       "1     Widespread_4          NaN     NaN           NaN        NaN          3.0   \n",
       "2     Widespread_4          NaN     NaN           NaN        NaN         10.0   \n",
       "3     Widespread_4          NaN     NaN           NaN        NaN         11.0   \n",
       "4     Widespread_4          NaN     NaN           NaN        NaN          4.0   \n",
       "\n",
       "   retained_07  retained_30  \n",
       "0          NaN          NaN  \n",
       "1          NaN          NaN  \n",
       "2          NaN          NaN  \n",
       "3          NaN          NaN  \n",
       "4          NaN          NaN  "
      ]
     },
     "execution_count": 3,
     "metadata": {},
     "output_type": "execute_result"
    }
   ],
   "source": [
    "df.head()"
   ]
  },
  {
   "cell_type": "markdown",
   "metadata": {},
   "source": [
    "The first thing we see is that there are several null values. Let us check how prevelent this is  "
   ]
  },
  {
   "cell_type": "code",
   "execution_count": 4,
   "metadata": {},
   "outputs": [
    {
     "data": {
      "text/plain": [
       "partition_date    100.000000\n",
       "timeperiod        100.000000\n",
       "country           100.000000\n",
       "full_version      100.000000\n",
       "news_locale       100.000000\n",
       "channel           100.000000\n",
       "source            100.000000\n",
       "impressions        39.927218\n",
       "clicks             37.647839\n",
       "active_users       50.300488\n",
       "new_users          50.300488\n",
       "retained_01         5.805593\n",
       "retained_07         4.523071\n",
       "retained_30         3.476683\n",
       "dtype: float64"
      ]
     },
     "execution_count": 4,
     "metadata": {},
     "output_type": "execute_result"
    }
   ],
   "source": [
    "df.count()/len(df)*100"
   ]
  },
  {
   "cell_type": "markdown",
   "metadata": {},
   "source": [
    "The table above shows the percentage of non-null data we have for each column"
   ]
  },
  {
   "cell_type": "markdown",
   "metadata": {},
   "source": [
    "Let us find out the time range the data covers"
   ]
  },
  {
   "cell_type": "code",
   "execution_count": 5,
   "metadata": {},
   "outputs": [
    {
     "data": {
      "text/plain": [
       "Timestamp('2018-08-30 00:00:00')"
      ]
     },
     "execution_count": 5,
     "metadata": {},
     "output_type": "execute_result"
    }
   ],
   "source": [
    "max(df[\"partition_date\"])"
   ]
  },
  {
   "cell_type": "code",
   "execution_count": 6,
   "metadata": {},
   "outputs": [
    {
     "data": {
      "text/plain": [
       "Timestamp('2018-06-01 00:00:00')"
      ]
     },
     "execution_count": 6,
     "metadata": {},
     "output_type": "execute_result"
    }
   ],
   "source": [
    "min(df[\"partition_date\"])"
   ]
  },
  {
   "cell_type": "markdown",
   "metadata": {},
   "source": [
    "The data covers three months. From first of June to 30th of August 2018."
   ]
  },
  {
   "cell_type": "markdown",
   "metadata": {},
   "source": [
    "## Average daily new user run-rate"
   ]
  },
  {
   "cell_type": "code",
   "execution_count": 7,
   "metadata": {},
   "outputs": [
    {
     "data": {
      "text/plain": [
       "country\n",
       "BF    1225.262295\n",
       "DC    2870.360656\n",
       "GT    2201.688525\n",
       "HF    2455.672131\n",
       "IB    1568.590164\n",
       "JE    1613.098361\n",
       "JY     661.688525\n",
       "KI    1804.049180\n",
       "LP     169.622951\n",
       "LQ     830.213115\n",
       "LY     144.213115\n",
       "OU     355.491803\n",
       "RE    2448.491803\n",
       "RO     399.754098\n",
       "TT     763.262295\n",
       "TZ     302.819672\n",
       "UF    2678.606557\n",
       "WA     226.065574\n",
       "XJ    1225.213115\n",
       "ZY    2368.557377\n",
       "Name: new_users, dtype: float64"
      ]
     },
     "execution_count": 7,
     "metadata": {},
     "output_type": "execute_result"
    }
   ],
   "source": [
    "new_user_run_rate = df.groupby([\"country\", \"timeperiod\"]).sum().groupby(\"country\")[\"new_users\"].mean()\n",
    "new_user_run_rate"
   ]
  },
  {
   "cell_type": "markdown",
   "metadata": {},
   "source": [
    "This is the average daily new users for the three month period"
   ]
  },
  {
   "cell_type": "markdown",
   "metadata": {},
   "source": [
    "## Top 10 sources by new users in June"
   ]
  },
  {
   "cell_type": "code",
   "execution_count": 8,
   "metadata": {},
   "outputs": [],
   "source": [
    "june = df[pd.to_datetime(df[\"timeperiod\"]).dt.month == 6]\n",
    "top_ten_sources_june = june.groupby([\"source\"]).sum().nlargest(10, \"new_users\")"
   ]
  },
  {
   "cell_type": "code",
   "execution_count": 9,
   "metadata": {},
   "outputs": [],
   "source": [
    "july = df[pd.to_datetime(df[\"timeperiod\"]).dt.month == 7]"
   ]
  },
  {
   "cell_type": "code",
   "execution_count": 10,
   "metadata": {},
   "outputs": [],
   "source": [
    "df_top_ten_july = july.loc[july[\"source\"].isin(list(top_ten_sources_june.index.values))]"
   ]
  },
  {
   "cell_type": "code",
   "execution_count": 11,
   "metadata": {},
   "outputs": [
    {
     "data": {
      "text/plain": [
       "source\n",
       "Cryptic_4       84564.870968\n",
       "Indeed_1        48873.000000\n",
       "Professor_7     47671.741935\n",
       "Latent_4        44108.903226\n",
       "Febrile_8       32720.161290\n",
       "Widespread_4    10841.838710\n",
       "Dreams_4        10091.935484\n",
       "Learned_3        8253.225806\n",
       "Family_1         7716.000000\n",
       "Returned_5       7142.129032\n",
       "Name: active_users, dtype: float64"
      ]
     },
     "execution_count": 11,
     "metadata": {},
     "output_type": "execute_result"
    }
   ],
   "source": [
    "df_top_ten_july.groupby([\"source\", \"timeperiod\"]).sum().groupby(\"source\")[\"active_users\"].mean().sort_values(ascending=False)"
   ]
  },
  {
   "cell_type": "markdown",
   "metadata": {},
   "source": [
    "This is the average active user in July for the top ten sources by user count in June"
   ]
  },
  {
   "cell_type": "markdown",
   "metadata": {},
   "source": [
    "## Top 5 countries by average retention ratio in June"
   ]
  },
  {
   "cell_type": "code",
   "execution_count": 12,
   "metadata": {},
   "outputs": [],
   "source": [
    "june_mean = june.groupby([\"country\", \"timeperiod\"]).sum().groupby(\"country\")[\"new_users\", \"retained_30\"].mean()"
   ]
  },
  {
   "cell_type": "code",
   "execution_count": 13,
   "metadata": {},
   "outputs": [],
   "source": [
    "june_mean[\"r30_ratio\"] = june_mean[\"retained_30\"] / june_mean[\"new_users\"]"
   ]
  },
  {
   "cell_type": "code",
   "execution_count": 14,
   "metadata": {},
   "outputs": [
    {
     "data": {
      "text/html": [
       "<div>\n",
       "<style scoped>\n",
       "    .dataframe tbody tr th:only-of-type {\n",
       "        vertical-align: middle;\n",
       "    }\n",
       "\n",
       "    .dataframe tbody tr th {\n",
       "        vertical-align: top;\n",
       "    }\n",
       "\n",
       "    .dataframe thead th {\n",
       "        text-align: right;\n",
       "    }\n",
       "</style>\n",
       "<table border=\"1\" class=\"dataframe\">\n",
       "  <thead>\n",
       "    <tr style=\"text-align: right;\">\n",
       "      <th></th>\n",
       "      <th>new_users</th>\n",
       "      <th>retained_30</th>\n",
       "      <th>r30_ratio</th>\n",
       "    </tr>\n",
       "    <tr>\n",
       "      <th>country</th>\n",
       "      <th></th>\n",
       "      <th></th>\n",
       "      <th></th>\n",
       "    </tr>\n",
       "  </thead>\n",
       "  <tbody>\n",
       "    <tr>\n",
       "      <th>OU</th>\n",
       "      <td>330.333333</td>\n",
       "      <td>71.766667</td>\n",
       "      <td>0.217255</td>\n",
       "    </tr>\n",
       "    <tr>\n",
       "      <th>KI</th>\n",
       "      <td>1789.133333</td>\n",
       "      <td>350.433333</td>\n",
       "      <td>0.195868</td>\n",
       "    </tr>\n",
       "    <tr>\n",
       "      <th>JY</th>\n",
       "      <td>621.366667</td>\n",
       "      <td>112.700000</td>\n",
       "      <td>0.181374</td>\n",
       "    </tr>\n",
       "    <tr>\n",
       "      <th>HF</th>\n",
       "      <td>2470.000000</td>\n",
       "      <td>441.133333</td>\n",
       "      <td>0.178596</td>\n",
       "    </tr>\n",
       "    <tr>\n",
       "      <th>DC</th>\n",
       "      <td>2700.000000</td>\n",
       "      <td>445.966667</td>\n",
       "      <td>0.165173</td>\n",
       "    </tr>\n",
       "  </tbody>\n",
       "</table>\n",
       "</div>"
      ],
      "text/plain": [
       "           new_users  retained_30  r30_ratio\n",
       "country                                     \n",
       "OU        330.333333    71.766667   0.217255\n",
       "KI       1789.133333   350.433333   0.195868\n",
       "JY        621.366667   112.700000   0.181374\n",
       "HF       2470.000000   441.133333   0.178596\n",
       "DC       2700.000000   445.966667   0.165173"
      ]
     },
     "execution_count": 14,
     "metadata": {},
     "output_type": "execute_result"
    }
   ],
   "source": [
    "top_five_ratio_june = june_mean.nlargest(5, \"r30_ratio\")\n",
    "top_five_ratio_june"
   ]
  },
  {
   "cell_type": "markdown",
   "metadata": {},
   "source": [
    "These are the top five countries for the daily R30 retention ratio"
   ]
  },
  {
   "cell_type": "markdown",
   "metadata": {},
   "source": [
    "## User aquisition trends"
   ]
  },
  {
   "cell_type": "markdown",
   "metadata": {},
   "source": [
    "In the following we assume that the ratio of users retained after 30 days reflect the true growth of good quality users. We will also assume that the ratio between clicks and impressions (Click-Through-Rate or CTR) is a good measure for the effectiveness of a source"
   ]
  },
  {
   "cell_type": "code",
   "execution_count": 15,
   "metadata": {},
   "outputs": [],
   "source": [
    "sources = df.groupby([\"source\", \"timeperiod\"]).sum().groupby(\"source\").sum()\n",
    "sources[\"growth\"] = sources[\"retained_30\"] / sources[\"new_users\"]\n",
    "sources[\"CTR\"] = sources[\"clicks\"] / sources[\"impressions\"]"
   ]
  },
  {
   "cell_type": "code",
   "execution_count": 16,
   "metadata": {},
   "outputs": [
    {
     "data": {
      "text/plain": [
       "<seaborn.axisgrid.PairGrid at 0x7f83e8616ba8>"
      ]
     },
     "execution_count": 16,
     "metadata": {},
     "output_type": "execute_result"
    },
    {
     "data": {
      "image/png": "[encoded data removed]",
      "text/plain": [
       "<Figure size 504x720 with 1 Axes>"
      ]
     },
     "metadata": {},
     "output_type": "display_data"
    }
   ],
   "source": [
    "sns.pairplot(sources, x_vars=[\"CTR\"], y_vars=\"growth\", size=10, aspect=0.7, kind=\"reg\")"
   ]
  },
  {
   "cell_type": "markdown",
   "metadata": {},
   "source": [
    "From the scatterplot we can se that there is seems to be a strong relationship between CTR and growth as we have defined them"
   ]
  },
  {
   "cell_type": "code",
   "execution_count": 17,
   "metadata": {},
   "outputs": [
    {
     "name": "stdout",
     "output_type": "stream",
     "text": [
      "('CTR', 5.018666746088409)\n",
      "('clicks', -2.7433881657443655e-08)\n",
      "('impressions', 2.0739441029407954e-09)\n"
     ]
    }
   ],
   "source": [
    "feature_cols = [\"CTR\", \"clicks\", \"impressions\"]\n",
    "X = sources[feature_cols]\n",
    "y = sources.growth\n",
    "\n",
    "linreg = LinearRegression()\n",
    "linreg.fit(X, y)\n",
    "\n",
    "for i in zip(feature_cols, linreg.coef_):\n",
    "    print(i)"
   ]
  },
  {
   "cell_type": "markdown",
   "metadata": {},
   "source": [
    "We see that one unit increase in CTR will on average yield 5 unit increases in growth"
   ]
  },
  {
   "cell_type": "code",
   "execution_count": 18,
   "metadata": {},
   "outputs": [
    {
     "name": "stdout",
     "output_type": "stream",
     "text": [
      "Intercept    0.185124\n",
      "CTR          0.015290\n",
      "dtype: float64\n"
     ]
    }
   ],
   "source": [
    "lm = smf.ols(formula='growth ~ CTR', data=sources).fit()\n",
    "print(lm.pvalues)"
   ]
  },
  {
   "cell_type": "markdown",
   "metadata": {},
   "source": [
    "This means that we can reject the null hypothesis and declare that there is a relationship between CTR and growth"
   ]
  },
  {
   "cell_type": "markdown",
   "metadata": {},
   "source": [
    "Let us now create a combination of CTR and growth as a score feature and determine the top 5 sources based upon that feature"
   ]
  },
  {
   "cell_type": "code",
   "execution_count": 19,
   "metadata": {},
   "outputs": [
    {
     "data": {
      "text/html": [
       "<div>\n",
       "<style scoped>\n",
       "    .dataframe tbody tr th:only-of-type {\n",
       "        vertical-align: middle;\n",
       "    }\n",
       "\n",
       "    .dataframe tbody tr th {\n",
       "        vertical-align: top;\n",
       "    }\n",
       "\n",
       "    .dataframe thead th {\n",
       "        text-align: right;\n",
       "    }\n",
       "</style>\n",
       "<table border=\"1\" class=\"dataframe\">\n",
       "  <thead>\n",
       "    <tr style=\"text-align: right;\">\n",
       "      <th></th>\n",
       "      <th>impressions</th>\n",
       "      <th>clicks</th>\n",
       "      <th>active_users</th>\n",
       "      <th>new_users</th>\n",
       "      <th>retained_01</th>\n",
       "      <th>retained_07</th>\n",
       "      <th>retained_30</th>\n",
       "      <th>growth</th>\n",
       "      <th>CTR</th>\n",
       "      <th>score</th>\n",
       "    </tr>\n",
       "    <tr>\n",
       "      <th>source</th>\n",
       "      <th></th>\n",
       "      <th></th>\n",
       "      <th></th>\n",
       "      <th></th>\n",
       "      <th></th>\n",
       "      <th></th>\n",
       "      <th></th>\n",
       "      <th></th>\n",
       "      <th></th>\n",
       "      <th></th>\n",
       "    </tr>\n",
       "  </thead>\n",
       "  <tbody>\n",
       "    <tr>\n",
       "      <th>Unprecedented_2</th>\n",
       "      <td>1647563.0</td>\n",
       "      <td>158255.0</td>\n",
       "      <td>16079.0</td>\n",
       "      <td>612.0</td>\n",
       "      <td>376.0</td>\n",
       "      <td>253.0</td>\n",
       "      <td>179.0</td>\n",
       "      <td>0.292484</td>\n",
       "      <td>0.096054</td>\n",
       "      <td>0.028094</td>\n",
       "    </tr>\n",
       "    <tr>\n",
       "      <th>Astonished_8</th>\n",
       "      <td>17061670.0</td>\n",
       "      <td>1493145.0</td>\n",
       "      <td>187238.0</td>\n",
       "      <td>7508.0</td>\n",
       "      <td>4488.0</td>\n",
       "      <td>3058.0</td>\n",
       "      <td>2271.0</td>\n",
       "      <td>0.302477</td>\n",
       "      <td>0.087515</td>\n",
       "      <td>0.026471</td>\n",
       "    </tr>\n",
       "    <tr>\n",
       "      <th>Interview_5</th>\n",
       "      <td>1226255.0</td>\n",
       "      <td>95722.0</td>\n",
       "      <td>8174.0</td>\n",
       "      <td>385.0</td>\n",
       "      <td>284.0</td>\n",
       "      <td>188.0</td>\n",
       "      <td>123.0</td>\n",
       "      <td>0.319481</td>\n",
       "      <td>0.078060</td>\n",
       "      <td>0.024939</td>\n",
       "    </tr>\n",
       "    <tr>\n",
       "      <th>Professor_3</th>\n",
       "      <td>3826121.0</td>\n",
       "      <td>343174.0</td>\n",
       "      <td>40316.0</td>\n",
       "      <td>1160.0</td>\n",
       "      <td>618.0</td>\n",
       "      <td>450.0</td>\n",
       "      <td>288.0</td>\n",
       "      <td>0.248276</td>\n",
       "      <td>0.089692</td>\n",
       "      <td>0.022268</td>\n",
       "    </tr>\n",
       "    <tr>\n",
       "      <th>Mentioned_4</th>\n",
       "      <td>1215555.0</td>\n",
       "      <td>97399.0</td>\n",
       "      <td>13759.0</td>\n",
       "      <td>800.0</td>\n",
       "      <td>421.0</td>\n",
       "      <td>211.0</td>\n",
       "      <td>156.0</td>\n",
       "      <td>0.195000</td>\n",
       "      <td>0.080127</td>\n",
       "      <td>0.015625</td>\n",
       "    </tr>\n",
       "  </tbody>\n",
       "</table>\n",
       "</div>"
      ],
      "text/plain": [
       "                 impressions     clicks  active_users  new_users  retained_01  \\\n",
       "source                                                                          \n",
       "Unprecedented_2    1647563.0   158255.0       16079.0      612.0        376.0   \n",
       "Astonished_8      17061670.0  1493145.0      187238.0     7508.0       4488.0   \n",
       "Interview_5        1226255.0    95722.0        8174.0      385.0        284.0   \n",
       "Professor_3        3826121.0   343174.0       40316.0     1160.0        618.0   \n",
       "Mentioned_4        1215555.0    97399.0       13759.0      800.0        421.0   \n",
       "\n",
       "                 retained_07  retained_30    growth       CTR     score  \n",
       "source                                                                   \n",
       "Unprecedented_2        253.0        179.0  0.292484  0.096054  0.028094  \n",
       "Astonished_8          3058.0       2271.0  0.302477  0.087515  0.026471  \n",
       "Interview_5            188.0        123.0  0.319481  0.078060  0.024939  \n",
       "Professor_3            450.0        288.0  0.248276  0.089692  0.022268  \n",
       "Mentioned_4            211.0        156.0  0.195000  0.080127  0.015625  "
      ]
     },
     "execution_count": 19,
     "metadata": {},
     "output_type": "execute_result"
    }
   ],
   "source": [
    "sources[\"score\"] = sources[\"CTR\"] * sources[\"growth\"]\n",
    "sources.nlargest(5, \"score\")"
   ]
  },
  {
   "cell_type": "markdown",
   "metadata": {},
   "source": [
    "### Conclusion\n",
    "Based upon our previous stated assumptions and the assumption that we can use a linear model to determine a relationship between our features, we have found that the table will show the sources that will bring good users in volume"
   ]
  }
 ],
 "metadata": {
  "kernelspec": {
   "display_name": "Python 3",
   "language": "python",
   "name": "python3"
  },
  "language_info": {
   "codemirror_mode": {
    "name": "ipython",
    "version": 3
   },
   "file_extension": ".py",
   "mimetype": "text/x-python",
   "name": "python",
   "nbconvert_exporter": "python",
   "pygments_lexer": "ipython3",
   "version": "3.6.5"
  }
 },
 "nbformat": 4,
 "nbformat_minor": 2
}
